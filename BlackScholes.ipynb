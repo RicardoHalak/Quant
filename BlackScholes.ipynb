{
  "nbformat": 4,
  "nbformat_minor": 0,
  "metadata": {
    "colab": {
      "provenance": [],
      "toc_visible": true
    },
    "kernelspec": {
      "name": "python3",
      "display_name": "Python 3"
    },
    "language_info": {
      "name": "python"
    }
  },
  "cells": [
    {
      "cell_type": "markdown",
      "source": [
        "#Black-Scholes\n",
        "The Black-Scholes model is a mathematical model for pricing options. This model is particularly known for the Black-Scholes formula, which provides a theoretical estimate of the price of European-style options."
      ],
      "metadata": {
        "id": "WIHOcSc49UI_"
      }
    },
    {
      "cell_type": "markdown",
      "source": [
        "## Key Concepts\n",
        "\n",
        "1. **European Options:** These options can only be exercised at expiration, unlike American options, which can be exercised at any time before expiration.\n",
        "2. **Call Option:** Gives the holder the right (but not the obligation) to buy an asset at a specified price (strike price) on the expiration date.\n",
        "3. **Put Option:** Gives the holder the right (but not the obligation) to sell an asset at a specified price on the expiration date."
      ],
      "metadata": {
        "id": "lDMGOrWW9iHY"
      }
    },
    {
      "cell_type": "markdown",
      "source": [
        "## The Black-Scholes Formula\n",
        "\n",
        "The Black-Scholes formula calculates the price of European call and put options. The key inputs to the model are:\n",
        "\n",
        "- $S$: Current price of the stock\n",
        "- $K$: Strike (or exercise) price of the option\n",
        "- $T$: Time to expiration (in years)\n",
        "- $r$: Risk-free interest rate (annualized)\n",
        "- $σ$: Volatility of the stock (annualized) - Standard deviation of returns\n",
        "- $N(\\cdot)$: Cumulative distribution function of the standard normal distribution\n"
      ],
      "metadata": {
        "id": "q6yjp03p96DP"
      }
    },
    {
      "cell_type": "markdown",
      "source": [
        "The formulas for the price of a European call option $C$ and put option $P$ are:\n",
        "\n",
        "<br>\n",
        "\n",
        "$$C = S N(d_1) - K e^{-rT} N(d_2) $$\n",
        "\n",
        "<br>\n",
        "\n",
        "$$ P = K e^{-rT} N(-d_2) - S N(-d_1) $$\n",
        "\n",
        "<br>\n",
        "\n",
        "where\n",
        "\n",
        "$$ d_1 = \\frac{\\ln(S/K) + (r + \\sigma^2 / 2)T}{\\sigma \\sqrt{T}} $$\n",
        "\n",
        "<br>\n",
        "\n",
        "$$ d_2 = d_1 - \\sigma \\sqrt{T} $$"
      ],
      "metadata": {
        "id": "0RRfJ_TY0C75"
      }
    },
    {
      "cell_type": "markdown",
      "source": [
        "## Assumptions of the Black-Scholes Model\n",
        "\n",
        "1. The stock price follows a geometric Brownian motion with constant drift and volatility.\n",
        "2. There are no dividends paid out during the life of the option.\n",
        "3. The markets are efficient (i.e., market movements cannot be predicted).\n",
        "4. No transaction costs or taxes.\n",
        "5. The risk-free rate and volatility of the stock are constant over the option's life.\n",
        "6. The option can only be exercised at expiration (European option)."
      ],
      "metadata": {
        "id": "ud1pAwiG-hQs"
      }
    },
    {
      "cell_type": "markdown",
      "source": [
        "## Example Calculation\n",
        "\n",
        "Let's calculate the price of a European call option using the Black-Scholes formula in Python."
      ],
      "metadata": {
        "id": "SqUP4L8e-ouH"
      }
    },
    {
      "cell_type": "code",
      "source": [
        "import numpy as np\n",
        "from scipy.stats import norm\n",
        "\n",
        "def black_scholes(S, K, T, r, sigma, opt_type):\n",
        "    # Calculate d1 and d2\n",
        "    d1 = (np.log(S / K) + (r + 0.5 * sigma**2) * T) / (sigma * np.sqrt(T))\n",
        "    d2 = d1 - sigma * np.sqrt(T)\n",
        "\n",
        "    # Calculate the price of the option\n",
        "    if opt_type == \"call\":\n",
        "        price = S * norm.cdf(d1) - K * np.exp(-r * T) * norm.cdf(d2)\n",
        "    elif opt_type == \"put\":\n",
        "        price = K * np.exp(-r * T) * norm.cdf(-d2) - S * norm.cdf(-d1)\n",
        "    else:\n",
        "        raise ValueError(\"Invalid option type. Choose 'call' or 'put'.\")\n",
        "\n",
        "    return price"
      ],
      "metadata": {
        "id": "F6TPDVp29TC5"
      },
      "execution_count": 21,
      "outputs": []
    },
    {
      "cell_type": "code",
      "source": [
        "# Example parameters\n",
        "S = 100  # Current stock price\n",
        "K = 100  # Strike price\n",
        "T = 1    # Time to expiration in years\n",
        "r = 0.05  # Risk-free interest rate\n",
        "sigma = 0.2  # Volatility"
      ],
      "metadata": {
        "id": "iqeelAab-wt_"
      },
      "execution_count": 22,
      "outputs": []
    },
    {
      "cell_type": "code",
      "source": [
        "# Calculate the call option price\n",
        "price = black_scholes(S, K, T, r, sigma, opt_type=\"call\")\n",
        "print(f\"The Black-Scholes price of the option is: {price:.2f}\")"
      ],
      "metadata": {
        "colab": {
          "base_uri": "https://localhost:8080/"
        },
        "id": "QMzhBmVY-vzh",
        "outputId": "fbd6572e-651b-4bb1-b863-83985b8c2fb4"
      },
      "execution_count": 24,
      "outputs": [
        {
          "output_type": "stream",
          "name": "stdout",
          "text": [
            "The Black-Scholes price of the call option is: 5.57\n"
          ]
        }
      ]
    },
    {
      "cell_type": "markdown",
      "source": [
        "## Side note: Cumulative Distribution Function (CDF)\n",
        "The CDF is a fundamental concept in probability theory and statistics that describes the probability that a random variable takes on a value less than or equal to a specified value. For a random variable $X$, the CDF, denoted as $F(x)$, is defined as:\n",
        "\n",
        "$$ F(x) = P(X \\leq x) $$\n",
        "\n",
        "where $P$ denotes the probability."
      ],
      "metadata": {
        "id": "DdIDmWnZ2IFP"
      }
    },
    {
      "cell_type": "markdown",
      "source": [
        "### Properties of the CDF\n",
        "\n",
        "1. **Non-decreasing**: The CDF is a non-decreasing function. This means $F(x_1) \\leq F(x_2) $ for $ x_1 < x_2 $.\n",
        "2. **Limits**:\n",
        "   - As $ x $ approaches negative infinity, $ F(x) $ approaches 0.\n",
        "   - As $ x $ approaches positive infinity, $ F(x) $ approaches 1.\n",
        "3. **Right-continuous**: The CDF is right-continuous, meaning there are no jumps when approaching from the right.\n"
      ],
      "metadata": {
        "id": "EK2wCDxn2au8"
      }
    },
    {
      "cell_type": "markdown",
      "source": [
        "### CDF for Discrete Random Variables\n",
        "\n",
        "For a discrete random variable $ X $ with possible values $ x_1, x_2, \\ldots $ and corresponding probabilities $ p_1, p_2, \\ldots $:\n",
        "\n",
        "<br>\n",
        "\n",
        "$$ F(x) = P(X \\leq x) = \\sum_{x_i \\leq x} P(X = x_i) = \\sum_{x_i \\leq x} p_i $$\n",
        "\n",
        "<br>\n",
        "\n",
        "For example: Consider a discrete random variable $ X $ that can take on values 1, 2, and 3 with probabilities $ P(X=1) = 0.2 $, $ P(X=2) = 0.5 $, and $ P(X=3) = 0.3 $. The CDF $ F(x) $ is:\n",
        "\n",
        "<br>\n",
        "\n",
        "- For $ x < 1 $, $ F(x) = 0 $\n",
        "- For $ 1 \\leq x < 2 $, $ F(x) = 0.2 $\n",
        "- For $ 2 \\leq x < 3 $, $ F(x) = 0.7 $\n",
        "- For $ x \\geq 3 $, $ F(x) = 1.0 $\n"
      ],
      "metadata": {
        "id": "XYF1ACyQ2rNp"
      }
    },
    {
      "cell_type": "markdown",
      "source": [
        "### CDF for Continuous Random Variables\n",
        "\n",
        "For a continuous random variable $ X $ with probability density function (PDF) $ f(x) $:\n",
        "\n",
        "<br>\n",
        "\n",
        "$$ F(x) = P(X \\leq x) = \\int_{-\\infty}^x f(t) \\, dt $$\n",
        "\n",
        "<br>\n",
        "For example: Consider a continuous random variable $ X $ with a PDF $ f(x) = e^{-x} $ for $ x \\geq 0 $ (an exponential distribution with parameter $ \\lambda = 1 $). The CDF $ F(x) $ is:\n",
        "\n",
        "$$ F(x) = \\int_{-\\infty}^x e^{-t} \\, dt = \\left\\{\n",
        "\\begin{array}{ll}\n",
        "0 & \\text{for } x < 0 \\\\\n",
        "1 - e^{-x} & \\text{for } x \\geq 0\n",
        "\\end{array}\n",
        "\\right. $$"
      ],
      "metadata": {
        "id": "kP933M_L3TPV"
      }
    }
  ]
}